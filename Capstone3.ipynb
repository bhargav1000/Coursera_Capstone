{
 "cells": [
  {
   "cell_type": "markdown",
   "metadata": {},
   "source": [
    "# Segmenting and Clustering Neighborhoods in Toronto"
   ]
  },
  {
   "cell_type": "markdown",
   "metadata": {},
   "source": [
    "Author: Bhargav Sagiraju\n",
    "\n",
    "This notebook contains Questions 1, 2 & 3 of the Assignment."
   ]
  },
  {
   "cell_type": "markdown",
   "metadata": {},
   "source": [
    "## Question 1"
   ]
  },
  {
   "cell_type": "markdown",
   "metadata": {},
   "source": [
    "## Importing Data"
   ]
  },
  {
   "cell_type": "code",
   "execution_count": 1,
   "metadata": {},
   "outputs": [],
   "source": [
    "import pandas as pd\n",
    "import requests\n",
    "from bs4 import BeautifulSoup"
   ]
  },
  {
   "cell_type": "code",
   "execution_count": 2,
   "metadata": {},
   "outputs": [
    {
     "data": {
      "text/plain": [
       "<Response [200]>"
      ]
     },
     "execution_count": 2,
     "metadata": {},
     "output_type": "execute_result"
    }
   ],
   "source": [
    "url = 'https://en.wikipedia.org/wiki/List_of_postal_codes_of_Canada:_M'\n",
    "wiki_page = requests.get(url)\n",
    "wiki_page"
   ]
  },
  {
   "cell_type": "markdown",
   "metadata": {},
   "source": [
    "Response 200 means we can connect to the page"
   ]
  },
  {
   "cell_type": "code",
   "execution_count": 3,
   "metadata": {},
   "outputs": [
    {
     "data": {
      "text/plain": [
       "[                                                    0  \\\n",
       " 0                                     M1ANot assigned   \n",
       " 1                     M1BScarborough(Malvern / Rouge)   \n",
       " 2   M1CScarborough(Rouge Hill / Port Union / Highl...   \n",
       " 3   M1EScarborough(Guildwood / Morningside / West ...   \n",
       " 4                              M1GScarborough(Woburn)   \n",
       " 5                           M1HScarborough(Cedarbrae)   \n",
       " 6                 M1JScarborough(Scarborough Village)   \n",
       " 7   M1KScarborough(Kennedy Park / Ionview / East B...   \n",
       " 8   M1LScarborough(Golden Mile / Clairlea / Oakridge)   \n",
       " 9   M1MScarborough(Cliffside / Cliffcrest / Scarbo...   \n",
       " 10       M1NScarborough(Birch Cliff / Cliffside West)   \n",
       " 11  M1PScarborough(Dorset Park / Wexford Heights /...   \n",
       " 12                 M1RScarborough(Wexford / Maryvale)   \n",
       " 13                          M1SScarborough(Agincourt)   \n",
       " 14  M1TScarborough(Clarks Corners / Tam O'Shanter ...   \n",
       " 15  M1VScarborough(Milliken / Agincourt North / St...   \n",
       " 16     M1WScarborough(Steeles West / L'Amoreaux West)   \n",
       " 17                        M1XScarborough(Upper Rouge)   \n",
       " 18                                    M1YNot assigned   \n",
       " 19                                    M1ZNot assigned   \n",
       " \n",
       "                                                 1  \\\n",
       " 0                                 M2ANot assigned   \n",
       " 1                                 M2BNot assigned   \n",
       " 2                                 M2CNot assigned   \n",
       " 3                                 M2ENot assigned   \n",
       " 4                                 M2GNot assigned   \n",
       " 5                M2HNorth York(Hillcrest Village)   \n",
       " 6   M2JNorth York(Fairview / Henry Farm / Oriole)   \n",
       " 7                  M2KNorth York(Bayview Village)   \n",
       " 8        M2LNorth York(York Mills / Silver Hills)   \n",
       " 9         M2MNorth York(Willowdale / Newtonbrook)   \n",
       " 10                 M2NNorth York(Willowdale)South   \n",
       " 11                 M2PNorth York(York Mills West)   \n",
       " 12                  M2RNorth York(Willowdale)West   \n",
       " 13                                M2SNot assigned   \n",
       " 14                                M2TNot assigned   \n",
       " 15                                M2VNot assigned   \n",
       " 16                                M2WNot assigned   \n",
       " 17                                M2XNot assigned   \n",
       " 18                                M2YNot assigned   \n",
       " 19                                M2ZNot assigned   \n",
       " \n",
       "                                                     2  \\\n",
       " 0                            M3ANorth York(Parkwoods)   \n",
       " 1                       M3BNorth York(Don Mills)North   \n",
       " 2      M3CNorth York(Don Mills)South(Flemingdon Park)   \n",
       " 3                                     M3ENot assigned   \n",
       " 4                                     M3GNot assigned   \n",
       " 5   M3HNorth York(Bathurst Manor / Wilson Heights ...   \n",
       " 6     M3JNorth York(Northwood Park / York University)   \n",
       " 7          M3KNorth York(Downsview)East (CFB Toronto)   \n",
       " 8                        M3LNorth York(Downsview)West   \n",
       " 9                     M3MNorth York(Downsview)Central   \n",
       " 10                  M3NNorth York(Downsview)Northwest   \n",
       " 11                                    M3PNot assigned   \n",
       " 12                                    M3RNot assigned   \n",
       " 13                                    M3SNot assigned   \n",
       " 14                                    M3TNot assigned   \n",
       " 15                                    M3VNot assigned   \n",
       " 16                                    M3WNot assigned   \n",
       " 17                                    M3XNot assigned   \n",
       " 18                                    M3YNot assigned   \n",
       " 19                                    M3ZNot assigned   \n",
       " \n",
       "                                                     3  \\\n",
       " 0                     M4ANorth York(Victoria Village)   \n",
       " 1      M4BEast York(Parkview Hill / Woodbine Gardens)   \n",
       " 2                      M4CEast York(Woodbine Heights)   \n",
       " 3                        M4EEast Toronto(The Beaches)   \n",
       " 4                               M4GEast York(Leaside)   \n",
       " 5                      M4HEast York(Thorncliffe Park)   \n",
       " 6         M4JEast YorkEast Toronto(The Danforth East)   \n",
       " 7      M4KEast Toronto(The Danforth West / Riverdale)   \n",
       " 8    M4LEast Toronto(India Bazaar / The Beaches West)   \n",
       " 9                    M4MEast Toronto(Studio District)   \n",
       " 10                  M4NCentral Toronto(Lawrence Park)   \n",
       " 11               M4PCentral Toronto(Davisville North)   \n",
       " 12             M4RCentral Toronto(North Toronto West)   \n",
       " 13                     M4SCentral Toronto(Davisville)   \n",
       " 14   M4TCentral Toronto(Moore Park / Summerhill East)   \n",
       " 15  M4VCentral Toronto(Summerhill West / Rathnelly...   \n",
       " 16                      M4WDowntown Toronto(Rosedale)   \n",
       " 17  M4XDowntown Toronto(St. James Town / Cabbagetown)   \n",
       " 18          M4YDowntown Toronto(Church and Wellesley)   \n",
       " 19                                    M4ZNot assigned   \n",
       " \n",
       "                                                     4  \\\n",
       " 0     M5ADowntown Toronto(Regent Park / Harbourfront)   \n",
       " 1       M5BDowntown Toronto(Garden District, Ryerson)   \n",
       " 2                 M5CDowntown Toronto(St. James Town)   \n",
       " 3                    M5EDowntown Toronto(Berczy Park)   \n",
       " 4             M5GDowntown Toronto(Central Bay Street)   \n",
       " 5     M5HDowntown Toronto(Richmond / Adelaide / King)   \n",
       " 6   M5JDowntown Toronto(Harbourfront East / Union ...   \n",
       " 7   M5KDowntown Toronto(Toronto Dominion Centre / ...   \n",
       " 8   M5LDowntown Toronto(Commerce Court / Victoria ...   \n",
       " 9   M5MNorth York(Bedford Park / Lawrence Manor East)   \n",
       " 10                       M5NCentral Toronto(Roselawn)   \n",
       " 11       M5PCentral Toronto(Forest Hill North & West)   \n",
       " 12  M5RCentral Toronto(The Annex / North Midtown /...   \n",
       " 13  M5SDowntown Toronto(University of Toronto / Ha...   \n",
       " 14  M5TDowntown Toronto(Kensington Market / Chinat...   \n",
       " 15  M5VDowntown Toronto(CN Tower / King and Spadin...   \n",
       " 16  M5WDowntown TorontoStn A PO Boxes25 The Esplan...   \n",
       " 17  M5XDowntown Toronto(First Canadian Place / Und...   \n",
       " 18                                    M5YNot assigned   \n",
       " 19                                    M5ZNot assigned   \n",
       " \n",
       "                                                     5  \\\n",
       " 0    M6ANorth York(Lawrence Manor / Lawrence Heights)   \n",
       " 1                            M6BNorth York(Glencairn)   \n",
       " 2                         M6CYork(Humewood-Cedarvale)   \n",
       " 3                        M6EYork(Caledonia-Fairbanks)   \n",
       " 4                       M6GDowntown Toronto(Christie)   \n",
       " 5      M6HWest Toronto(Dufferin / Dovercourt Village)   \n",
       " 6          M6JWest Toronto(Little Portugal / Trinity)   \n",
       " 7   M6KWest Toronto(Brockton / Parkdale Village / ...   \n",
       " 8   M6LNorth York(North Park / Maple Leaf Park / U...   \n",
       " 9   M6MYork(Del Ray / Mount Dennis / Keelsdale and...   \n",
       " 10            M6NYork(Runnymede / The Junction North)   \n",
       " 11    M6PWest Toronto(High Park / The Junction South)   \n",
       " 12           M6RWest Toronto(Parkdale / Roncesvalles)   \n",
       " 13               M6SWest Toronto(Runnymede / Swansea)   \n",
       " 14                                    M6TNot assigned   \n",
       " 15                                    M6VNot assigned   \n",
       " 16                                    M6WNot assigned   \n",
       " 17                                    M6XNot assigned   \n",
       " 18                                    M6YNot assigned   \n",
       " 19                                    M6ZNot assigned   \n",
       " \n",
       "                                                     6  \\\n",
       " 0      M7AQueen's Park(Ontario Provincial Government)   \n",
       " 1                                     M7BNot assigned   \n",
       " 2                                     M7CNot assigned   \n",
       " 3                                     M7ENot assigned   \n",
       " 4                                     M7GNot assigned   \n",
       " 5                                     M7HNot assigned   \n",
       " 6                                     M7JNot assigned   \n",
       " 7                                     M7KNot assigned   \n",
       " 8                                     M7LNot assigned   \n",
       " 9                                     M7MNot assigned   \n",
       " 10                                    M7NNot assigned   \n",
       " 11                                    M7PNot assigned   \n",
       " 12  M7RMississaugaCanada Post Gateway Processing C...   \n",
       " 13                                    M7SNot assigned   \n",
       " 14                                    M7TNot assigned   \n",
       " 15                                    M7VNot assigned   \n",
       " 16                                    M7WNot assigned   \n",
       " 17                                    M7XNot assigned   \n",
       " 18  M7YEast TorontoBusiness reply mail Processing ...   \n",
       " 19                                    M7ZNot assigned   \n",
       " \n",
       "                                                     7  \\\n",
       " 0                                     M8ANot assigned   \n",
       " 1                                     M8BNot assigned   \n",
       " 2                                     M8CNot assigned   \n",
       " 3                                     M8ENot assigned   \n",
       " 4                                     M8GNot assigned   \n",
       " 5                                     M8HNot assigned   \n",
       " 6                                     M8JNot assigned   \n",
       " 7                                     M8KNot assigned   \n",
       " 8                                     M8LNot assigned   \n",
       " 9                                     M8MNot assigned   \n",
       " 10                                    M8NNot assigned   \n",
       " 11                                    M8PNot assigned   \n",
       " 12                                    M8RNot assigned   \n",
       " 13                                    M8SNot assigned   \n",
       " 14                                    M8TNot assigned   \n",
       " 15  M8VEtobicoke(New Toronto / Mimico South / Humb...   \n",
       " 16              M8WEtobicoke(Alderwood / Long Branch)   \n",
       " 17  M8XEtobicoke(The Kingsway / Montgomery Road / ...   \n",
       " 18  M8YEtobicoke(Old Mill South / King's Mill Park...   \n",
       " 19  M8ZEtobicoke(Mimico NW / The Queensway West / ...   \n",
       " \n",
       "                                                     8  \n",
       " 0                      M9AEtobicoke(Islington Avenue)  \n",
       " 1   M9BEtobicoke(West Deane Park / Princess Garden...  \n",
       " 2   M9CEtobicoke(Eringate / Bloordale Gardens / Ol...  \n",
       " 3                                     M9ENot assigned  \n",
       " 4                                     M9GNot assigned  \n",
       " 5                                     M9HNot assigned  \n",
       " 6                                     M9JNot assigned  \n",
       " 7                                     M9KNot assigned  \n",
       " 8                        M9LNorth York(Humber Summit)  \n",
       " 9                    M9MNorth York(Humberlea / Emery)  \n",
       " 10                                    M9NYork(Weston)  \n",
       " 11                            M9PEtobicoke(Westmount)  \n",
       " 12  M9REtobicoke(Kingsview Village / St. Phillips ...  \n",
       " 13                                    M9SNot assigned  \n",
       " 14                                    M9TNot assigned  \n",
       " 15  M9VEtobicoke(South Steeles / Silverstone / Hum...  \n",
       " 16  M9WEtobicokeNorthwest(Clairville / Humberwood ...  \n",
       " 17                                    M9XNot assigned  \n",
       " 18                                    M9YNot assigned  \n",
       " 19                                    M9ZNot assigned  ,\n",
       "                                                   0   \\\n",
       " 0                                                NaN   \n",
       " 1  NL NS PE NB QC ON MB SK AB BC NU/NT YT A B C E...   \n",
       " 2                                                 NL   \n",
       " 3                                                  A   \n",
       " \n",
       "                                                   1   \\\n",
       " 0                              Canadian postal codes   \n",
       " 1  NL NS PE NB QC ON MB SK AB BC NU/NT YT A B C E...   \n",
       " 2                                                 NS   \n",
       " 3                                                  B   \n",
       " \n",
       "                                                   2    3    4    5    6    7   \\\n",
       " 0                                                NaN  NaN  NaN  NaN  NaN  NaN   \n",
       " 1  NL NS PE NB QC ON MB SK AB BC NU/NT YT A B C E...  NaN  NaN  NaN  NaN  NaN   \n",
       " 2                                                 PE   NB   QC   QC   QC   ON   \n",
       " 3                                                  C    E    G    H    J    K   \n",
       " \n",
       "     8    9    10   11   12   13   14   15     16   17  \n",
       " 0  NaN  NaN  NaN  NaN  NaN  NaN  NaN  NaN    NaN  NaN  \n",
       " 1  NaN  NaN  NaN  NaN  NaN  NaN  NaN  NaN    NaN  NaN  \n",
       " 2   ON   ON   ON   ON   MB   SK   AB   BC  NU/NT   YT  \n",
       " 3    L    M    N    P    R    S    T    V      X    Y  ,\n",
       "    0   1   2   3   4   5   6   7   8   9   10  11  12  13  14  15     16  17\n",
       " 0  NL  NS  PE  NB  QC  QC  QC  ON  ON  ON  ON  ON  MB  SK  AB  BC  NU/NT  YT\n",
       " 1   A   B   C   E   G   H   J   K   L   M   N   P   R   S   T   V      X   Y]"
      ]
     },
     "execution_count": 3,
     "metadata": {},
     "output_type": "execute_result"
    }
   ],
   "source": [
    "wiki_raw = pd.read_html(wiki_page.text)\n",
    "wiki_raw"
   ]
  },
  {
   "cell_type": "markdown",
   "metadata": {},
   "source": [
    "The data seems to be bunched up"
   ]
  },
  {
   "cell_type": "markdown",
   "metadata": {},
   "source": [
    "### Creating a soup object using the Beautiful Soup library"
   ]
  },
  {
   "cell_type": "code",
   "execution_count": 4,
   "metadata": {},
   "outputs": [],
   "source": [
    "soup=BeautifulSoup(wiki_page.text, 'html5lib')"
   ]
  },
  {
   "cell_type": "markdown",
   "metadata": {},
   "source": [
    "### We will extract the data and create a dataframe"
   ]
  },
  {
   "cell_type": "code",
   "execution_count": 5,
   "metadata": {},
   "outputs": [],
   "source": [
    "table_contents=[]\n",
    "table=soup.find('table')\n",
    "for row in table.findAll('td'):\n",
    "    cell = {}\n",
    "    if row.span.text=='Not assigned':\n",
    "        pass\n",
    "    else:\n",
    "        cell['PostalCode'] = row.p.text[:3]\n",
    "        cell['Borough'] = (row.span.text).split('(')[0]\n",
    "        cell['Neighborhood'] = (((((row.span.text).split('(')[1]).strip(')')).replace(' /',',')).replace(')',' ')).strip(' ')\n",
    "        table_contents.append(cell)\n",
    "\n",
    "# print(table_contents)\n",
    "df=pd.DataFrame(table_contents)\n",
    "df['Borough']=df['Borough'].replace({'Downtown TorontoStn A PO Boxes25 The Esplanade':'Downtown Toronto Stn A',\n",
    "                                             'East TorontoBusiness reply mail Processing Centre969 Eastern':'East Toronto Business',\n",
    "                                             'EtobicokeNorthwest':'Etobicoke Northwest','East YorkEast Toronto':'East York/East Toronto',\n",
    "                                             'MississaugaCanada Post Gateway Processing Centre':'Mississauga'})"
   ]
  },
  {
   "cell_type": "markdown",
   "metadata": {},
   "source": [
    "### Checking Neighborhoods which are 'Not assigned'"
   ]
  },
  {
   "cell_type": "code",
   "execution_count": 6,
   "metadata": {},
   "outputs": [
    {
     "data": {
      "text/plain": [
       "0"
      ]
     },
     "execution_count": 6,
     "metadata": {},
     "output_type": "execute_result"
    }
   ],
   "source": [
    "df.Neighborhood.str.count(\"Not assigned\").sum()"
   ]
  },
  {
   "cell_type": "markdown",
   "metadata": {},
   "source": [
    "### The resulting dataframe looks like this"
   ]
  },
  {
   "cell_type": "code",
   "execution_count": 7,
   "metadata": {},
   "outputs": [
    {
     "data": {
      "text/html": [
       "<div>\n",
       "<style scoped>\n",
       "    .dataframe tbody tr th:only-of-type {\n",
       "        vertical-align: middle;\n",
       "    }\n",
       "\n",
       "    .dataframe tbody tr th {\n",
       "        vertical-align: top;\n",
       "    }\n",
       "\n",
       "    .dataframe thead th {\n",
       "        text-align: right;\n",
       "    }\n",
       "</style>\n",
       "<table border=\"1\" class=\"dataframe\">\n",
       "  <thead>\n",
       "    <tr style=\"text-align: right;\">\n",
       "      <th></th>\n",
       "      <th>PostalCode</th>\n",
       "      <th>Borough</th>\n",
       "      <th>Neighborhood</th>\n",
       "    </tr>\n",
       "  </thead>\n",
       "  <tbody>\n",
       "    <tr>\n",
       "      <td>0</td>\n",
       "      <td>M3A</td>\n",
       "      <td>North York</td>\n",
       "      <td>Parkwoods</td>\n",
       "    </tr>\n",
       "    <tr>\n",
       "      <td>1</td>\n",
       "      <td>M4A</td>\n",
       "      <td>North York</td>\n",
       "      <td>Victoria Village</td>\n",
       "    </tr>\n",
       "    <tr>\n",
       "      <td>2</td>\n",
       "      <td>M5A</td>\n",
       "      <td>Downtown Toronto</td>\n",
       "      <td>Regent Park, Harbourfront</td>\n",
       "    </tr>\n",
       "    <tr>\n",
       "      <td>3</td>\n",
       "      <td>M6A</td>\n",
       "      <td>North York</td>\n",
       "      <td>Lawrence Manor, Lawrence Heights</td>\n",
       "    </tr>\n",
       "    <tr>\n",
       "      <td>4</td>\n",
       "      <td>M7A</td>\n",
       "      <td>Queen's Park</td>\n",
       "      <td>Ontario Provincial Government</td>\n",
       "    </tr>\n",
       "    <tr>\n",
       "      <td>...</td>\n",
       "      <td>...</td>\n",
       "      <td>...</td>\n",
       "      <td>...</td>\n",
       "    </tr>\n",
       "    <tr>\n",
       "      <td>98</td>\n",
       "      <td>M8X</td>\n",
       "      <td>Etobicoke</td>\n",
       "      <td>The Kingsway, Montgomery Road, Old Mill North</td>\n",
       "    </tr>\n",
       "    <tr>\n",
       "      <td>99</td>\n",
       "      <td>M4Y</td>\n",
       "      <td>Downtown Toronto</td>\n",
       "      <td>Church and Wellesley</td>\n",
       "    </tr>\n",
       "    <tr>\n",
       "      <td>100</td>\n",
       "      <td>M7Y</td>\n",
       "      <td>East Toronto Business</td>\n",
       "      <td>Enclave of M4L</td>\n",
       "    </tr>\n",
       "    <tr>\n",
       "      <td>101</td>\n",
       "      <td>M8Y</td>\n",
       "      <td>Etobicoke</td>\n",
       "      <td>Old Mill South, King's Mill Park, Sunnylea, Hu...</td>\n",
       "    </tr>\n",
       "    <tr>\n",
       "      <td>102</td>\n",
       "      <td>M8Z</td>\n",
       "      <td>Etobicoke</td>\n",
       "      <td>Mimico NW, The Queensway West, South of Bloor,...</td>\n",
       "    </tr>\n",
       "  </tbody>\n",
       "</table>\n",
       "<p>103 rows × 3 columns</p>\n",
       "</div>"
      ],
      "text/plain": [
       "    PostalCode                Borough  \\\n",
       "0          M3A             North York   \n",
       "1          M4A             North York   \n",
       "2          M5A       Downtown Toronto   \n",
       "3          M6A             North York   \n",
       "4          M7A           Queen's Park   \n",
       "..         ...                    ...   \n",
       "98         M8X              Etobicoke   \n",
       "99         M4Y       Downtown Toronto   \n",
       "100        M7Y  East Toronto Business   \n",
       "101        M8Y              Etobicoke   \n",
       "102        M8Z              Etobicoke   \n",
       "\n",
       "                                          Neighborhood  \n",
       "0                                            Parkwoods  \n",
       "1                                     Victoria Village  \n",
       "2                            Regent Park, Harbourfront  \n",
       "3                     Lawrence Manor, Lawrence Heights  \n",
       "4                        Ontario Provincial Government  \n",
       "..                                                 ...  \n",
       "98       The Kingsway, Montgomery Road, Old Mill North  \n",
       "99                                Church and Wellesley  \n",
       "100                                     Enclave of M4L  \n",
       "101  Old Mill South, King's Mill Park, Sunnylea, Hu...  \n",
       "102  Mimico NW, The Queensway West, South of Bloor,...  \n",
       "\n",
       "[103 rows x 3 columns]"
      ]
     },
     "execution_count": 7,
     "metadata": {},
     "output_type": "execute_result"
    }
   ],
   "source": [
    "df"
   ]
  },
  {
   "cell_type": "code",
   "execution_count": 8,
   "metadata": {},
   "outputs": [
    {
     "data": {
      "text/plain": [
       "(103, 3)"
      ]
     },
     "execution_count": 8,
     "metadata": {},
     "output_type": "execute_result"
    }
   ],
   "source": [
    "df.shape"
   ]
  },
  {
   "cell_type": "markdown",
   "metadata": {},
   "source": [
    "### Here we see that the dataframe has 103 rows and 3 columns"
   ]
  },
  {
   "cell_type": "code",
   "execution_count": null,
   "metadata": {},
   "outputs": [],
   "source": []
  },
  {
   "cell_type": "markdown",
   "metadata": {},
   "source": [
    "## Question 2"
   ]
  },
  {
   "cell_type": "code",
   "execution_count": null,
   "metadata": {},
   "outputs": [],
   "source": []
  }
 ],
 "metadata": {
  "kernelspec": {
   "display_name": "Python 3",
   "language": "python",
   "name": "python3"
  },
  "language_info": {
   "codemirror_mode": {
    "name": "ipython",
    "version": 3
   },
   "file_extension": ".py",
   "mimetype": "text/x-python",
   "name": "python",
   "nbconvert_exporter": "python",
   "pygments_lexer": "ipython3",
   "version": "3.7.4"
  }
 },
 "nbformat": 4,
 "nbformat_minor": 2
}
